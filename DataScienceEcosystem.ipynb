{
 "cells": [
  {
   "cell_type": "markdown",
   "id": "4f9046c7-8798-49fc-aaf6-9e131a6bda1f",
   "metadata": {},
   "source": [
    "<h1> Data Science Tools and Ecosystem </h1>"
   ]
  },
  {
   "cell_type": "markdown",
   "id": "397c8c12-1af4-446c-b0a8-eaa551799fca",
   "metadata": {},
   "source": [
    "In this notebook, Data Science Tools and Ecosystem are summarized."
   ]
  },
  {
   "cell_type": "markdown",
   "id": "8a2b5eda-8e69-4e65-9d04-3dccd3540b49",
   "metadata": {},
   "source": [
    "**Objectives:**\n",
    "- List popular languages for data science\n",
    "- List commonly used libraries for data science\n",
    "- List a few data science tools\n",
    "- Evaluating a few arithmetic expressions in Python"
   ]
  },
  {
   "cell_type": "markdown",
   "id": "f111d8c4-7be9-4c93-8d39-7acc1481259e",
   "metadata": {},
   "source": [
    "Some of the popular languages that data scientists use are\n",
    "1. Python\n",
    "2. R \n",
    "3. Structured Query Language (SQL)\n",
    "4. Java\n",
    "5. C++\n",
    "6. Scala\n",
    "7. Julia\n",
    "and many more."
   ]
  },
  {
   "cell_type": "markdown",
   "id": "8889bf65-587f-4686-92d2-92a76c7bf55b",
   "metadata": {},
   "source": [
    "Some of the commonly used libraries used by Data Scientists include:\n",
    "1. Numpy\n",
    "2. Panda\n",
    "3. Matplotlib\n",
    "4. Seaborn\n",
    "5. Scikit-learn\n",
    "6. Keras\n",
    "7. TensorFlow\n",
    "8. ggplot2\n",
    "   and many more."
   ]
  },
  {
   "cell_type": "markdown",
   "id": "0a91391d-76b2-40e7-9db6-dce627385a78",
   "metadata": {},
   "source": [
    "A few data science tools have been listed below:\n",
    "| Data Science Tools |\n",
    "| -: |\n",
    "| Jupyter Notebooks |\n",
    "| Jupyter Lab |\n",
    "| RStudio |\n",
    "| Spyder |"
   ]
  },
  {
   "cell_type": "markdown",
   "id": "3b5cb378-b99e-4c71-a49f-2924a7f0c21e",
   "metadata": {},
   "source": [
    "<h3>Below are a few examples of evaluating arithmetic expressions in Python.</h3>"
   ]
  },
  {
   "cell_type": "code",
   "execution_count": 20,
   "id": "d0967ece-4529-46e7-8f4e-9843e6b14a95",
   "metadata": {},
   "outputs": [
    {
     "data": {
      "text/plain": [
       "17"
      ]
     },
     "execution_count": 20,
     "metadata": {},
     "output_type": "execute_result"
    }
   ],
   "source": [
    "#This a simple arithmetic expression to mutiply then add integers.\n",
    "(3*4)+5"
   ]
  },
  {
   "cell_type": "code",
   "execution_count": 26,
   "id": "d6e6445a-82d8-4dce-bbf5-3ac4544966c0",
   "metadata": {},
   "outputs": [
    {
     "name": "stdout",
     "output_type": "stream",
     "text": [
      "3.3333333333333335\n"
     ]
    }
   ],
   "source": [
    "#This will convert 200 minutes to hours by diving by 60\n",
    "minutes=200\n",
    "hours=minutes/60 \n",
    "print(hours)"
   ]
  },
  {
   "cell_type": "markdown",
   "id": "6dd7b153-9719-468e-885f-8bfac271754b",
   "metadata": {},
   "source": [
    "<h2>Author</h2>\n",
    "Ipshita Dutta"
   ]
  },
  {
   "cell_type": "code",
   "execution_count": null,
   "id": "ce5bef83-7e86-44d8-b100-485ca91f6630",
   "metadata": {},
   "outputs": [],
   "source": []
  }
 ],
 "metadata": {
  "kernelspec": {
   "display_name": "Python [conda env:base] *",
   "language": "python",
   "name": "conda-base-py"
  },
  "language_info": {
   "codemirror_mode": {
    "name": "ipython",
    "version": 3
   },
   "file_extension": ".py",
   "mimetype": "text/x-python",
   "name": "python",
   "nbconvert_exporter": "python",
   "pygments_lexer": "ipython3",
   "version": "3.12.7"
  }
 },
 "nbformat": 4,
 "nbformat_minor": 5
}
